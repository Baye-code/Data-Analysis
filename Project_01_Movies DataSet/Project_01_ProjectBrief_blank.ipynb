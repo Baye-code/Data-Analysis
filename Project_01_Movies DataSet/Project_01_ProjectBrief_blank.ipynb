{
 "cells": [
  {
   "cell_type": "markdown",
   "metadata": {},
   "source": [
    "# Project 1: Explanatory Data Analysis & Data Presentation (Movies Dataset)"
   ]
  },
  {
   "cell_type": "markdown",
   "metadata": {},
   "source": [
    "# Project Brief for Self-Coders"
   ]
  },
  {
   "cell_type": "markdown",
   "metadata": {},
   "source": [
    "Here you´ll have the opportunity to code major parts of Project 1 on your own. If you need any help or inspiration, have a look at the Videos or the Jupyter Notebook with the full code. <br> <br>\n",
    "Keep in mind that it´s all about __getting the right results/conclusions__. It´s not about finding the identical code. Things can be coded in many different ways. Even if you come to the same conclusions, it´s very unlikely that we have the very same code. "
   ]
  },
  {
   "cell_type": "markdown",
   "metadata": {},
   "source": [
    "## Data Import and first Inspection"
   ]
  },
  {
   "cell_type": "markdown",
   "metadata": {},
   "source": [
    "1. __Import__ the movies dataset from the CSV file \"movies_complete.csv\". __Inspect__ the data."
   ]
  },
  {
   "cell_type": "markdown",
   "metadata": {},
   "source": [
    "__Some additional information on Features/Columns__:"
   ]
  },
  {
   "cell_type": "markdown",
   "metadata": {},
   "source": [
    "* **id:** The ID of the movie (clear/unique identifier).\n",
    "* **title:** The Official Title of the movie.\n",
    "* **tagline:** The tagline of the movie.\n",
    "* **release_date:** Theatrical Release Date of the movie.\n",
    "* **genres:** Genres associated with the movie.\n",
    "* **belongs_to_collection:** Gives information on the movie series/franchise the particular film belongs to.\n",
    "* **original_language:** The language in which the movie was originally shot in.\n",
    "* **budget_musd:** The budget of the movie in million dollars.\n",
    "* **revenue_musd:** The total revenue of the movie in million dollars.\n",
    "* **production_companies:** Production companies involved with the making of the movie.\n",
    "* **production_countries:** Countries where the movie was shot/produced in.\n",
    "* **vote_count:** The number of votes by users, as counted by TMDB.\n",
    "* **vote_average:** The average rating of the movie.\n",
    "* **popularity:** The Popularity Score assigned by TMDB.\n",
    "* **runtime:** The runtime of the movie in minutes.\n",
    "* **overview:** A brief blurb of the movie.\n",
    "* **spoken_languages:** Spoken languages in the film.\n",
    "* **poster_path:** The URL of the poster image.\n",
    "* **cast:** (Main) Actors appearing in the movie.\n",
    "* **cast_size:** number of Actors appearing in the movie.\n",
    "* **director:** Director of the movie.\n",
    "* **crew_size:** Size of the film crew (incl. director, excl. actors)."
   ]
  },
  {
   "cell_type": "code",
   "execution_count": 1,
   "metadata": {},
   "outputs": [
    {
     "data": {
      "text/html": [
       "<div>\n",
       "<style scoped>\n",
       "    .dataframe tbody tr th:only-of-type {\n",
       "        vertical-align: middle;\n",
       "    }\n",
       "\n",
       "    .dataframe tbody tr th {\n",
       "        vertical-align: top;\n",
       "    }\n",
       "\n",
       "    .dataframe thead th {\n",
       "        text-align: right;\n",
       "    }\n",
       "</style>\n",
       "<table border=\"1\" class=\"dataframe\">\n",
       "  <thead>\n",
       "    <tr style=\"text-align: right;\">\n",
       "      <th></th>\n",
       "      <th>id</th>\n",
       "      <th>title</th>\n",
       "      <th>tagline</th>\n",
       "      <th>release_date</th>\n",
       "      <th>genres</th>\n",
       "      <th>belongs_to_collection</th>\n",
       "      <th>original_language</th>\n",
       "      <th>budget_musd</th>\n",
       "      <th>revenue_musd</th>\n",
       "      <th>production_companies</th>\n",
       "      <th>...</th>\n",
       "      <th>vote_average</th>\n",
       "      <th>popularity</th>\n",
       "      <th>runtime</th>\n",
       "      <th>overview</th>\n",
       "      <th>spoken_languages</th>\n",
       "      <th>poster_path</th>\n",
       "      <th>cast</th>\n",
       "      <th>cast_size</th>\n",
       "      <th>crew_size</th>\n",
       "      <th>director</th>\n",
       "    </tr>\n",
       "  </thead>\n",
       "  <tbody>\n",
       "    <tr>\n",
       "      <th>0</th>\n",
       "      <td>862</td>\n",
       "      <td>Toy Story</td>\n",
       "      <td>NaN</td>\n",
       "      <td>1995-10-30</td>\n",
       "      <td>Animation|Comedy|Family</td>\n",
       "      <td>Toy Story Collection</td>\n",
       "      <td>en</td>\n",
       "      <td>30.0</td>\n",
       "      <td>373.554033</td>\n",
       "      <td>Pixar Animation Studios</td>\n",
       "      <td>...</td>\n",
       "      <td>7.7</td>\n",
       "      <td>21.946943</td>\n",
       "      <td>81.0</td>\n",
       "      <td>Led by Woody, Andy's toys live happily in his ...</td>\n",
       "      <td>English</td>\n",
       "      <td>&lt;img src='http://image.tmdb.org/t/p/w185//uXDf...</td>\n",
       "      <td>Tom Hanks|Tim Allen|Don Rickles|Jim Varney|Wal...</td>\n",
       "      <td>13</td>\n",
       "      <td>106</td>\n",
       "      <td>John Lasseter</td>\n",
       "    </tr>\n",
       "    <tr>\n",
       "      <th>1</th>\n",
       "      <td>8844</td>\n",
       "      <td>Jumanji</td>\n",
       "      <td>Roll the dice and unleash the excitement!</td>\n",
       "      <td>1995-12-15</td>\n",
       "      <td>Adventure|Fantasy|Family</td>\n",
       "      <td>NaN</td>\n",
       "      <td>en</td>\n",
       "      <td>65.0</td>\n",
       "      <td>262.797249</td>\n",
       "      <td>TriStar Pictures|Teitler Film|Interscope Commu...</td>\n",
       "      <td>...</td>\n",
       "      <td>6.9</td>\n",
       "      <td>17.015539</td>\n",
       "      <td>104.0</td>\n",
       "      <td>When siblings Judy and Peter discover an encha...</td>\n",
       "      <td>English|Français</td>\n",
       "      <td>&lt;img src='http://image.tmdb.org/t/p/w185//vgpX...</td>\n",
       "      <td>Robin Williams|Jonathan Hyde|Kirsten Dunst|Bra...</td>\n",
       "      <td>26</td>\n",
       "      <td>16</td>\n",
       "      <td>Joe Johnston</td>\n",
       "    </tr>\n",
       "    <tr>\n",
       "      <th>2</th>\n",
       "      <td>15602</td>\n",
       "      <td>Grumpier Old Men</td>\n",
       "      <td>Still Yelling. Still Fighting. Still Ready for...</td>\n",
       "      <td>1995-12-22</td>\n",
       "      <td>Romance|Comedy</td>\n",
       "      <td>Grumpy Old Men Collection</td>\n",
       "      <td>en</td>\n",
       "      <td>NaN</td>\n",
       "      <td>NaN</td>\n",
       "      <td>Warner Bros.|Lancaster Gate</td>\n",
       "      <td>...</td>\n",
       "      <td>6.5</td>\n",
       "      <td>11.712900</td>\n",
       "      <td>101.0</td>\n",
       "      <td>A family wedding reignites the ancient feud be...</td>\n",
       "      <td>English</td>\n",
       "      <td>&lt;img src='http://image.tmdb.org/t/p/w185//1FSX...</td>\n",
       "      <td>Walter Matthau|Jack Lemmon|Ann-Margret|Sophia ...</td>\n",
       "      <td>7</td>\n",
       "      <td>4</td>\n",
       "      <td>Howard Deutch</td>\n",
       "    </tr>\n",
       "    <tr>\n",
       "      <th>3</th>\n",
       "      <td>31357</td>\n",
       "      <td>Waiting to Exhale</td>\n",
       "      <td>Friends are the people who let you be yourself...</td>\n",
       "      <td>1995-12-22</td>\n",
       "      <td>Comedy|Drama|Romance</td>\n",
       "      <td>NaN</td>\n",
       "      <td>en</td>\n",
       "      <td>16.0</td>\n",
       "      <td>81.452156</td>\n",
       "      <td>Twentieth Century Fox Film Corporation</td>\n",
       "      <td>...</td>\n",
       "      <td>6.1</td>\n",
       "      <td>3.859495</td>\n",
       "      <td>127.0</td>\n",
       "      <td>Cheated on, mistreated and stepped on, the wom...</td>\n",
       "      <td>English</td>\n",
       "      <td>&lt;img src='http://image.tmdb.org/t/p/w185//4wjG...</td>\n",
       "      <td>Whitney Houston|Angela Bassett|Loretta Devine|...</td>\n",
       "      <td>10</td>\n",
       "      <td>10</td>\n",
       "      <td>Forest Whitaker</td>\n",
       "    </tr>\n",
       "    <tr>\n",
       "      <th>4</th>\n",
       "      <td>11862</td>\n",
       "      <td>Father of the Bride Part II</td>\n",
       "      <td>Just When His World Is Back To Normal... He's ...</td>\n",
       "      <td>1995-02-10</td>\n",
       "      <td>Comedy</td>\n",
       "      <td>Father of the Bride Collection</td>\n",
       "      <td>en</td>\n",
       "      <td>NaN</td>\n",
       "      <td>76.578911</td>\n",
       "      <td>Sandollar Productions|Touchstone Pictures</td>\n",
       "      <td>...</td>\n",
       "      <td>5.7</td>\n",
       "      <td>8.387519</td>\n",
       "      <td>106.0</td>\n",
       "      <td>Just when George Banks has recovered from his ...</td>\n",
       "      <td>English</td>\n",
       "      <td>&lt;img src='http://image.tmdb.org/t/p/w185//lf9R...</td>\n",
       "      <td>Steve Martin|Diane Keaton|Martin Short|Kimberl...</td>\n",
       "      <td>12</td>\n",
       "      <td>7</td>\n",
       "      <td>Charles Shyer</td>\n",
       "    </tr>\n",
       "  </tbody>\n",
       "</table>\n",
       "<p>5 rows × 22 columns</p>\n",
       "</div>"
      ],
      "text/plain": [
       "      id                        title  \\\n",
       "0    862                    Toy Story   \n",
       "1   8844                      Jumanji   \n",
       "2  15602             Grumpier Old Men   \n",
       "3  31357            Waiting to Exhale   \n",
       "4  11862  Father of the Bride Part II   \n",
       "\n",
       "                                             tagline release_date  \\\n",
       "0                                                NaN   1995-10-30   \n",
       "1          Roll the dice and unleash the excitement!   1995-12-15   \n",
       "2  Still Yelling. Still Fighting. Still Ready for...   1995-12-22   \n",
       "3  Friends are the people who let you be yourself...   1995-12-22   \n",
       "4  Just When His World Is Back To Normal... He's ...   1995-02-10   \n",
       "\n",
       "                     genres           belongs_to_collection original_language  \\\n",
       "0   Animation|Comedy|Family            Toy Story Collection                en   \n",
       "1  Adventure|Fantasy|Family                             NaN                en   \n",
       "2            Romance|Comedy       Grumpy Old Men Collection                en   \n",
       "3      Comedy|Drama|Romance                             NaN                en   \n",
       "4                    Comedy  Father of the Bride Collection                en   \n",
       "\n",
       "   budget_musd  revenue_musd  \\\n",
       "0         30.0    373.554033   \n",
       "1         65.0    262.797249   \n",
       "2          NaN           NaN   \n",
       "3         16.0     81.452156   \n",
       "4          NaN     76.578911   \n",
       "\n",
       "                                production_companies  ... vote_average  \\\n",
       "0                            Pixar Animation Studios  ...          7.7   \n",
       "1  TriStar Pictures|Teitler Film|Interscope Commu...  ...          6.9   \n",
       "2                        Warner Bros.|Lancaster Gate  ...          6.5   \n",
       "3             Twentieth Century Fox Film Corporation  ...          6.1   \n",
       "4          Sandollar Productions|Touchstone Pictures  ...          5.7   \n",
       "\n",
       "   popularity  runtime                                           overview  \\\n",
       "0   21.946943     81.0  Led by Woody, Andy's toys live happily in his ...   \n",
       "1   17.015539    104.0  When siblings Judy and Peter discover an encha...   \n",
       "2   11.712900    101.0  A family wedding reignites the ancient feud be...   \n",
       "3    3.859495    127.0  Cheated on, mistreated and stepped on, the wom...   \n",
       "4    8.387519    106.0  Just when George Banks has recovered from his ...   \n",
       "\n",
       "   spoken_languages                                        poster_path  \\\n",
       "0           English  <img src='http://image.tmdb.org/t/p/w185//uXDf...   \n",
       "1  English|Français  <img src='http://image.tmdb.org/t/p/w185//vgpX...   \n",
       "2           English  <img src='http://image.tmdb.org/t/p/w185//1FSX...   \n",
       "3           English  <img src='http://image.tmdb.org/t/p/w185//4wjG...   \n",
       "4           English  <img src='http://image.tmdb.org/t/p/w185//lf9R...   \n",
       "\n",
       "                                                cast cast_size crew_size  \\\n",
       "0  Tom Hanks|Tim Allen|Don Rickles|Jim Varney|Wal...        13       106   \n",
       "1  Robin Williams|Jonathan Hyde|Kirsten Dunst|Bra...        26        16   \n",
       "2  Walter Matthau|Jack Lemmon|Ann-Margret|Sophia ...         7         4   \n",
       "3  Whitney Houston|Angela Bassett|Loretta Devine|...        10        10   \n",
       "4  Steve Martin|Diane Keaton|Martin Short|Kimberl...        12         7   \n",
       "\n",
       "          director  \n",
       "0    John Lasseter  \n",
       "1     Joe Johnston  \n",
       "2    Howard Deutch  \n",
       "3  Forest Whitaker  \n",
       "4    Charles Shyer  \n",
       "\n",
       "[5 rows x 22 columns]"
      ]
     },
     "execution_count": 1,
     "metadata": {},
     "output_type": "execute_result"
    }
   ],
   "source": [
    "import pandas as pd\n",
    "movies_df = pd.read_csv(\"movies_complete.csv\")\n",
    "movies_df.head()"
   ]
  },
  {
   "cell_type": "code",
   "execution_count": 2,
   "metadata": {},
   "outputs": [
    {
     "name": "stdout",
     "output_type": "stream",
     "text": [
      "<class 'pandas.core.frame.DataFrame'>\n",
      "RangeIndex: 44691 entries, 0 to 44690\n",
      "Data columns (total 22 columns):\n",
      " #   Column                 Non-Null Count  Dtype  \n",
      "---  ------                 --------------  -----  \n",
      " 0   id                     44691 non-null  int64  \n",
      " 1   title                  44691 non-null  object \n",
      " 2   tagline                20284 non-null  object \n",
      " 3   release_date           44657 non-null  object \n",
      " 4   genres                 42586 non-null  object \n",
      " 5   belongs_to_collection  4463 non-null   object \n",
      " 6   original_language      44681 non-null  object \n",
      " 7   budget_musd            8854 non-null   float64\n",
      " 8   revenue_musd           7385 non-null   float64\n",
      " 9   production_companies   33356 non-null  object \n",
      " 10  production_countries   38835 non-null  object \n",
      " 11  vote_count             44691 non-null  float64\n",
      " 12  vote_average           42077 non-null  float64\n",
      " 13  popularity             44691 non-null  float64\n",
      " 14  runtime                43179 non-null  float64\n",
      " 15  overview               43740 non-null  object \n",
      " 16  spoken_languages       41094 non-null  object \n",
      " 17  poster_path            44467 non-null  object \n",
      " 18  cast                   42502 non-null  object \n",
      " 19  cast_size              44691 non-null  int64  \n",
      " 20  crew_size              44691 non-null  int64  \n",
      " 21  director               43960 non-null  object \n",
      "dtypes: float64(6), int64(3), object(13)\n",
      "memory usage: 7.5+ MB\n"
     ]
    }
   ],
   "source": [
    "movies_df.info()"
   ]
  },
  {
   "cell_type": "code",
   "execution_count": 3,
   "metadata": {},
   "outputs": [
    {
     "data": {
      "text/html": [
       "<div>\n",
       "<style scoped>\n",
       "    .dataframe tbody tr th:only-of-type {\n",
       "        vertical-align: middle;\n",
       "    }\n",
       "\n",
       "    .dataframe tbody tr th {\n",
       "        vertical-align: top;\n",
       "    }\n",
       "\n",
       "    .dataframe thead th {\n",
       "        text-align: right;\n",
       "    }\n",
       "</style>\n",
       "<table border=\"1\" class=\"dataframe\">\n",
       "  <thead>\n",
       "    <tr style=\"text-align: right;\">\n",
       "      <th></th>\n",
       "      <th>id</th>\n",
       "      <th>budget_musd</th>\n",
       "      <th>revenue_musd</th>\n",
       "      <th>vote_count</th>\n",
       "      <th>vote_average</th>\n",
       "      <th>popularity</th>\n",
       "      <th>runtime</th>\n",
       "      <th>cast_size</th>\n",
       "      <th>crew_size</th>\n",
       "    </tr>\n",
       "  </thead>\n",
       "  <tbody>\n",
       "    <tr>\n",
       "      <th>count</th>\n",
       "      <td>44691.000000</td>\n",
       "      <td>8854.000000</td>\n",
       "      <td>7385.000000</td>\n",
       "      <td>44691.000000</td>\n",
       "      <td>42077.000000</td>\n",
       "      <td>44691.000000</td>\n",
       "      <td>43179.000000</td>\n",
       "      <td>44691.000000</td>\n",
       "      <td>44691.000000</td>\n",
       "    </tr>\n",
       "    <tr>\n",
       "      <th>mean</th>\n",
       "      <td>107186.242845</td>\n",
       "      <td>21.669886</td>\n",
       "      <td>68.968649</td>\n",
       "      <td>111.653778</td>\n",
       "      <td>6.003341</td>\n",
       "      <td>2.957460</td>\n",
       "      <td>97.566850</td>\n",
       "      <td>12.479090</td>\n",
       "      <td>10.313643</td>\n",
       "    </tr>\n",
       "    <tr>\n",
       "      <th>std</th>\n",
       "      <td>111806.362236</td>\n",
       "      <td>34.359837</td>\n",
       "      <td>146.608966</td>\n",
       "      <td>495.322313</td>\n",
       "      <td>1.281060</td>\n",
       "      <td>6.040008</td>\n",
       "      <td>34.653409</td>\n",
       "      <td>12.124663</td>\n",
       "      <td>15.892154</td>\n",
       "    </tr>\n",
       "    <tr>\n",
       "      <th>min</th>\n",
       "      <td>2.000000</td>\n",
       "      <td>0.000001</td>\n",
       "      <td>0.000001</td>\n",
       "      <td>0.000000</td>\n",
       "      <td>0.000000</td>\n",
       "      <td>0.000000</td>\n",
       "      <td>1.000000</td>\n",
       "      <td>0.000000</td>\n",
       "      <td>0.000000</td>\n",
       "    </tr>\n",
       "    <tr>\n",
       "      <th>25%</th>\n",
       "      <td>26033.500000</td>\n",
       "      <td>2.000000</td>\n",
       "      <td>2.405420</td>\n",
       "      <td>3.000000</td>\n",
       "      <td>5.300000</td>\n",
       "      <td>0.402038</td>\n",
       "      <td>86.000000</td>\n",
       "      <td>6.000000</td>\n",
       "      <td>2.000000</td>\n",
       "    </tr>\n",
       "    <tr>\n",
       "      <th>50%</th>\n",
       "      <td>59110.000000</td>\n",
       "      <td>8.200000</td>\n",
       "      <td>16.872671</td>\n",
       "      <td>10.000000</td>\n",
       "      <td>6.100000</td>\n",
       "      <td>1.150055</td>\n",
       "      <td>95.000000</td>\n",
       "      <td>10.000000</td>\n",
       "      <td>6.000000</td>\n",
       "    </tr>\n",
       "    <tr>\n",
       "      <th>75%</th>\n",
       "      <td>154251.000000</td>\n",
       "      <td>25.000000</td>\n",
       "      <td>67.642693</td>\n",
       "      <td>35.000000</td>\n",
       "      <td>6.800000</td>\n",
       "      <td>3.768882</td>\n",
       "      <td>107.000000</td>\n",
       "      <td>15.000000</td>\n",
       "      <td>12.000000</td>\n",
       "    </tr>\n",
       "    <tr>\n",
       "      <th>max</th>\n",
       "      <td>469172.000000</td>\n",
       "      <td>380.000000</td>\n",
       "      <td>2787.965087</td>\n",
       "      <td>14075.000000</td>\n",
       "      <td>10.000000</td>\n",
       "      <td>547.488298</td>\n",
       "      <td>1256.000000</td>\n",
       "      <td>313.000000</td>\n",
       "      <td>435.000000</td>\n",
       "    </tr>\n",
       "  </tbody>\n",
       "</table>\n",
       "</div>"
      ],
      "text/plain": [
       "                  id  budget_musd  revenue_musd    vote_count  vote_average  \\\n",
       "count   44691.000000  8854.000000   7385.000000  44691.000000  42077.000000   \n",
       "mean   107186.242845    21.669886     68.968649    111.653778      6.003341   \n",
       "std    111806.362236    34.359837    146.608966    495.322313      1.281060   \n",
       "min         2.000000     0.000001      0.000001      0.000000      0.000000   \n",
       "25%     26033.500000     2.000000      2.405420      3.000000      5.300000   \n",
       "50%     59110.000000     8.200000     16.872671     10.000000      6.100000   \n",
       "75%    154251.000000    25.000000     67.642693     35.000000      6.800000   \n",
       "max    469172.000000   380.000000   2787.965087  14075.000000     10.000000   \n",
       "\n",
       "         popularity       runtime     cast_size     crew_size  \n",
       "count  44691.000000  43179.000000  44691.000000  44691.000000  \n",
       "mean       2.957460     97.566850     12.479090     10.313643  \n",
       "std        6.040008     34.653409     12.124663     15.892154  \n",
       "min        0.000000      1.000000      0.000000      0.000000  \n",
       "25%        0.402038     86.000000      6.000000      2.000000  \n",
       "50%        1.150055     95.000000     10.000000      6.000000  \n",
       "75%        3.768882    107.000000     15.000000     12.000000  \n",
       "max      547.488298   1256.000000    313.000000    435.000000  "
      ]
     },
     "execution_count": 3,
     "metadata": {},
     "output_type": "execute_result"
    }
   ],
   "source": [
    "movies_df.describe()"
   ]
  },
  {
   "cell_type": "markdown",
   "metadata": {},
   "source": [
    "## The best and the worst movies..."
   ]
  },
  {
   "cell_type": "markdown",
   "metadata": {},
   "source": [
    "2. __Filter__ the Dataset and __find the best/worst n Movies__ with the"
   ]
  },
  {
   "cell_type": "markdown",
   "metadata": {},
   "source": [
    "- Highest Revenue\n",
    "- Highest Budget\n",
    "- Highest Profit (=Revenue - Budget)\n",
    "- Lowest Profit (=Revenue - Budget)\n",
    "- Highest Return on Investment (=Revenue / Budget) (only movies with Budget >= 10) \n",
    "- Lowest Return on Investment (=Revenue / Budget) (only movies with Budget >= 10)\n",
    "- Highest number of Votes\n",
    "- Highest Rating (only movies with 10 or more Ratings)\n",
    "- Lowest Rating (only movies with 10 or more Ratings)\n",
    "- Highest Popularity"
   ]
  },
  {
   "cell_type": "markdown",
   "metadata": {},
   "source": [
    "__Define__ an appropriate __user-defined function__ to reuse code."
   ]
  },
  {
   "cell_type": "code",
   "execution_count": 4,
   "metadata": {},
   "outputs": [
    {
     "data": {
      "text/plain": [
       "0    2787.965087\n",
       "1    2068.223624\n",
       "2    1845.034188\n",
       "3    1519.557910\n",
       "4    1513.528810\n",
       "Name: revenue_musd, dtype: float64"
      ]
     },
     "execution_count": 4,
     "metadata": {},
     "output_type": "execute_result"
    }
   ],
   "source": [
    "movies_df['revenue_musd'].sort_values(ascending=False, ignore_index=True).head()"
   ]
  },
  {
   "cell_type": "code",
   "execution_count": 5,
   "metadata": {},
   "outputs": [],
   "source": [
    "# Méthode1\n",
    "\"\"\"\n",
    "def highest_Values(column_name):\n",
    "    return movies_df.nlargest(5, column_name)\n",
    "\"\"\"\n",
    "def highest_Values(column_name):\n",
    "    \"\"\"\n",
    "        return the highest value \n",
    "        of the specified column\n",
    "    \"\"\"\n",
    "    return movies_df[column_name].sort_values(ascending=False, ignore_index=True).head() "
   ]
  },
  {
   "cell_type": "code",
   "execution_count": 6,
   "metadata": {},
   "outputs": [
    {
     "data": {
      "text/plain": [
       "\"def highest_test_Values(column_name):\\n    return movies_df.loc[column_name]['title'].sort_values(ascending=False, ignore_index=True).head() \\n    #return movies_df[column_name].sort_values(ascending=False, ignore_index=True).head() \""
      ]
     },
     "execution_count": 6,
     "metadata": {},
     "output_type": "execute_result"
    }
   ],
   "source": [
    "\"\"\"def highest_test_Values(column_name):\n",
    "    return movies_df.loc[column_name]['title'].sort_values(ascending=False, ignore_index=True).head() \n",
    "    #return movies_df[column_name].sort_values(ascending=False, ignore_index=True).head() \"\"\""
   ]
  },
  {
   "cell_type": "code",
   "execution_count": 7,
   "metadata": {},
   "outputs": [],
   "source": [
    "def lowest_Values(column_name):\n",
    "    \"\"\"\n",
    "        return the highest value \n",
    "        of the specified column\n",
    "    \"\"\"\n",
    "    return movies_df[column_name].sort_values(ignore_index=True).head() "
   ]
  },
  {
   "cell_type": "markdown",
   "metadata": {},
   "source": [
    "__Movies Top 5 - Highest Revenue__"
   ]
  },
  {
   "cell_type": "code",
   "execution_count": 8,
   "metadata": {},
   "outputs": [
    {
     "data": {
      "text/plain": [
       "0    2787.965087\n",
       "1    2068.223624\n",
       "2    1845.034188\n",
       "3    1519.557910\n",
       "4    1513.528810\n",
       "Name: revenue_musd, dtype: float64"
      ]
     },
     "execution_count": 8,
     "metadata": {},
     "output_type": "execute_result"
    }
   ],
   "source": [
    "highest_Values('revenue_musd')"
   ]
  },
  {
   "cell_type": "code",
   "execution_count": 9,
   "metadata": {},
   "outputs": [],
   "source": [
    "#highest_test_Values('revenue_musd')"
   ]
  },
  {
   "cell_type": "markdown",
   "metadata": {},
   "source": [
    "__Movies Top 5 - Highest Budget__"
   ]
  },
  {
   "cell_type": "code",
   "execution_count": 10,
   "metadata": {},
   "outputs": [
    {
     "data": {
      "text/plain": [
       "0    380.0\n",
       "1    300.0\n",
       "2    280.0\n",
       "3    270.0\n",
       "4    260.0\n",
       "Name: budget_musd, dtype: float64"
      ]
     },
     "execution_count": 10,
     "metadata": {},
     "output_type": "execute_result"
    }
   ],
   "source": [
    "highest_Values('budget_musd')"
   ]
  },
  {
   "cell_type": "markdown",
   "metadata": {},
   "source": [
    "__Movies Top 5 - Highest Profit__"
   ]
  },
  {
   "cell_type": "code",
   "execution_count": 11,
   "metadata": {},
   "outputs": [
    {
     "data": {
      "text/plain": [
       "0        343.554033\n",
       "1        197.797249\n",
       "2               NaN\n",
       "3         65.452156\n",
       "4               NaN\n",
       "            ...    \n",
       "44686           NaN\n",
       "44687           NaN\n",
       "44688           NaN\n",
       "44689           NaN\n",
       "44690           NaN\n",
       "Name: profit_musd, Length: 44691, dtype: float64"
      ]
     },
     "execution_count": 11,
     "metadata": {},
     "output_type": "execute_result"
    }
   ],
   "source": [
    "movies_df['profit_musd'] = movies_df['revenue_musd'] - movies_df['budget_musd']\n",
    "movies_df['profit_musd']"
   ]
  },
  {
   "cell_type": "code",
   "execution_count": 12,
   "metadata": {},
   "outputs": [
    {
     "data": {
      "text/plain": [
       "0    2550.965087\n",
       "1    1823.223624\n",
       "2    1645.034188\n",
       "3    1363.528810\n",
       "4    1316.249360\n",
       "Name: profit_musd, dtype: float64"
      ]
     },
     "execution_count": 12,
     "metadata": {},
     "output_type": "execute_result"
    }
   ],
   "source": [
    "highest_Values('profit_musd')"
   ]
  },
  {
   "cell_type": "markdown",
   "metadata": {},
   "source": [
    "__Movies Top 5 - Lowest Profit__"
   ]
  },
  {
   "cell_type": "code",
   "execution_count": 13,
   "metadata": {
    "scrolled": false
   },
   "outputs": [
    {
     "data": {
      "text/plain": [
       "0   -165.710090\n",
       "1   -119.180039\n",
       "2   -111.007242\n",
       "3   -107.447384\n",
       "4    -98.301101\n",
       "Name: profit_musd, dtype: float64"
      ]
     },
     "execution_count": 13,
     "metadata": {},
     "output_type": "execute_result"
    }
   ],
   "source": [
    "lowest_Values('profit_musd')"
   ]
  },
  {
   "cell_type": "markdown",
   "metadata": {},
   "source": [
    "__Movies Top 5 - Highest ROI__"
   ]
  },
  {
   "cell_type": "code",
   "execution_count": 14,
   "metadata": {
    "scrolled": false
   },
   "outputs": [],
   "source": [
    "movies_df['roi_musd'] = movies_df['revenue_musd'] / movies_df['budget_musd']"
   ]
  },
  {
   "cell_type": "code",
   "execution_count": 15,
   "metadata": {},
   "outputs": [
    {
     "data": {
      "text/plain": [
       "0    1.239638e+07\n",
       "1    8.500000e+06\n",
       "2    4.197477e+06\n",
       "3    2.755584e+06\n",
       "4    1.018619e+06\n",
       "Name: roi_musd, dtype: float64"
      ]
     },
     "execution_count": 15,
     "metadata": {},
     "output_type": "execute_result"
    }
   ],
   "source": [
    "highest_Values('roi_musd')"
   ]
  },
  {
   "cell_type": "markdown",
   "metadata": {},
   "source": [
    "__Movies Top 5 - Lowest ROI__"
   ]
  },
  {
   "cell_type": "code",
   "execution_count": 16,
   "metadata": {},
   "outputs": [
    {
     "data": {
      "text/plain": [
       "0    5.217391e-07\n",
       "1    7.500000e-07\n",
       "2    9.375000e-07\n",
       "3    1.499133e-06\n",
       "4    1.800000e-06\n",
       "Name: roi_musd, dtype: float64"
      ]
     },
     "execution_count": 16,
     "metadata": {},
     "output_type": "execute_result"
    }
   ],
   "source": [
    "lowest_Values('roi_musd')"
   ]
  },
  {
   "cell_type": "markdown",
   "metadata": {},
   "source": [
    "__Movies Top 5 - Most Votes__"
   ]
  },
  {
   "cell_type": "code",
   "execution_count": 17,
   "metadata": {},
   "outputs": [
    {
     "data": {
      "text/plain": [
       "0    14075.0\n",
       "1    12269.0\n",
       "2    12114.0\n",
       "3    12000.0\n",
       "4    11444.0\n",
       "Name: vote_count, dtype: float64"
      ]
     },
     "execution_count": 17,
     "metadata": {},
     "output_type": "execute_result"
    }
   ],
   "source": [
    "highest_Values('vote_count')"
   ]
  },
  {
   "cell_type": "markdown",
   "metadata": {},
   "source": [
    "__Movies Top 5 - Highest Rating__"
   ]
  },
  {
   "cell_type": "code",
   "execution_count": 18,
   "metadata": {},
   "outputs": [
    {
     "data": {
      "text/plain": [
       "0    10.0\n",
       "1    10.0\n",
       "2    10.0\n",
       "3    10.0\n",
       "4    10.0\n",
       "Name: vote_average, dtype: float64"
      ]
     },
     "execution_count": 18,
     "metadata": {},
     "output_type": "execute_result"
    }
   ],
   "source": [
    "highest_Values('vote_average')"
   ]
  },
  {
   "cell_type": "markdown",
   "metadata": {},
   "source": [
    "__Movies Top 5 - Lowest Rating__"
   ]
  },
  {
   "cell_type": "code",
   "execution_count": 19,
   "metadata": {},
   "outputs": [
    {
     "data": {
      "text/plain": [
       "0    0.0\n",
       "1    0.0\n",
       "2    0.0\n",
       "3    0.0\n",
       "4    0.0\n",
       "Name: vote_average, dtype: float64"
      ]
     },
     "execution_count": 19,
     "metadata": {},
     "output_type": "execute_result"
    }
   ],
   "source": [
    "lowest_Values('vote_average')"
   ]
  },
  {
   "cell_type": "markdown",
   "metadata": {},
   "source": [
    "__Movies Top 5 - Most Popular__"
   ]
  },
  {
   "cell_type": "code",
   "execution_count": 20,
   "metadata": {},
   "outputs": [
    {
     "data": {
      "text/plain": [
       "0    547.488298\n",
       "1    294.337037\n",
       "2    287.253654\n",
       "3    228.032744\n",
       "4    213.849907\n",
       "Name: popularity, dtype: float64"
      ]
     },
     "execution_count": 20,
     "metadata": {},
     "output_type": "execute_result"
    }
   ],
   "source": [
    "highest_Values('popularity')"
   ]
  },
  {
   "cell_type": "markdown",
   "metadata": {},
   "source": [
    "## Find your next Movie"
   ]
  },
  {
   "cell_type": "markdown",
   "metadata": {},
   "source": [
    "3. __Filter__ the Dataset for movies that meet the following conditions:"
   ]
  },
  {
   "cell_type": "markdown",
   "metadata": {},
   "source": [
    "__Search 1: Science Fiction Action Movie with Bruce Willis (sorted from high to low Rating)__"
   ]
  },
  {
   "cell_type": "markdown",
   "metadata": {},
   "source": [
    "__Search 2: Movies with Uma Thurman and directed by Quentin Tarantino (sorted from short to long runtime)__"
   ]
  },
  {
   "cell_type": "markdown",
   "metadata": {},
   "source": [
    "__Search 3: Most Successful Pixar Studio Movies between 2010 and 2015 (sorted from high to low Revenue)__"
   ]
  },
  {
   "cell_type": "markdown",
   "metadata": {},
   "source": [
    "__Search 4: Action or Thriller Movie with original language English and minimum Rating of 7.5 (most recent movies first)__"
   ]
  },
  {
   "cell_type": "code",
   "execution_count": 21,
   "metadata": {},
   "outputs": [
    {
     "data": {
      "text/html": [
       "<div>\n",
       "<style scoped>\n",
       "    .dataframe tbody tr th:only-of-type {\n",
       "        vertical-align: middle;\n",
       "    }\n",
       "\n",
       "    .dataframe tbody tr th {\n",
       "        vertical-align: top;\n",
       "    }\n",
       "\n",
       "    .dataframe thead th {\n",
       "        text-align: right;\n",
       "    }\n",
       "</style>\n",
       "<table border=\"1\" class=\"dataframe\">\n",
       "  <thead>\n",
       "    <tr style=\"text-align: right;\">\n",
       "      <th></th>\n",
       "      <th>id</th>\n",
       "      <th>title</th>\n",
       "      <th>tagline</th>\n",
       "      <th>release_date</th>\n",
       "      <th>genres</th>\n",
       "      <th>belongs_to_collection</th>\n",
       "      <th>original_language</th>\n",
       "      <th>budget_musd</th>\n",
       "      <th>revenue_musd</th>\n",
       "      <th>production_companies</th>\n",
       "      <th>...</th>\n",
       "      <th>runtime</th>\n",
       "      <th>overview</th>\n",
       "      <th>spoken_languages</th>\n",
       "      <th>poster_path</th>\n",
       "      <th>cast</th>\n",
       "      <th>cast_size</th>\n",
       "      <th>crew_size</th>\n",
       "      <th>director</th>\n",
       "      <th>profit_musd</th>\n",
       "      <th>roi_musd</th>\n",
       "    </tr>\n",
       "  </thead>\n",
       "  <tbody>\n",
       "    <tr>\n",
       "      <th>0</th>\n",
       "      <td>862</td>\n",
       "      <td>Toy Story</td>\n",
       "      <td>NaN</td>\n",
       "      <td>1995-10-30</td>\n",
       "      <td>Animation|Comedy|Family</td>\n",
       "      <td>Toy Story Collection</td>\n",
       "      <td>en</td>\n",
       "      <td>30.0</td>\n",
       "      <td>373.554033</td>\n",
       "      <td>Pixar Animation Studios</td>\n",
       "      <td>...</td>\n",
       "      <td>81.0</td>\n",
       "      <td>Led by Woody, Andy's toys live happily in his ...</td>\n",
       "      <td>English</td>\n",
       "      <td>&lt;img src='http://image.tmdb.org/t/p/w185//uXDf...</td>\n",
       "      <td>Tom Hanks|Tim Allen|Don Rickles|Jim Varney|Wal...</td>\n",
       "      <td>13</td>\n",
       "      <td>106</td>\n",
       "      <td>John Lasseter</td>\n",
       "      <td>343.554033</td>\n",
       "      <td>12.451801</td>\n",
       "    </tr>\n",
       "    <tr>\n",
       "      <th>1</th>\n",
       "      <td>8844</td>\n",
       "      <td>Jumanji</td>\n",
       "      <td>Roll the dice and unleash the excitement!</td>\n",
       "      <td>1995-12-15</td>\n",
       "      <td>Adventure|Fantasy|Family</td>\n",
       "      <td>NaN</td>\n",
       "      <td>en</td>\n",
       "      <td>65.0</td>\n",
       "      <td>262.797249</td>\n",
       "      <td>TriStar Pictures|Teitler Film|Interscope Commu...</td>\n",
       "      <td>...</td>\n",
       "      <td>104.0</td>\n",
       "      <td>When siblings Judy and Peter discover an encha...</td>\n",
       "      <td>English|Français</td>\n",
       "      <td>&lt;img src='http://image.tmdb.org/t/p/w185//vgpX...</td>\n",
       "      <td>Robin Williams|Jonathan Hyde|Kirsten Dunst|Bra...</td>\n",
       "      <td>26</td>\n",
       "      <td>16</td>\n",
       "      <td>Joe Johnston</td>\n",
       "      <td>197.797249</td>\n",
       "      <td>4.043035</td>\n",
       "    </tr>\n",
       "  </tbody>\n",
       "</table>\n",
       "<p>2 rows × 24 columns</p>\n",
       "</div>"
      ],
      "text/plain": [
       "     id      title                                    tagline release_date  \\\n",
       "0   862  Toy Story                                        NaN   1995-10-30   \n",
       "1  8844    Jumanji  Roll the dice and unleash the excitement!   1995-12-15   \n",
       "\n",
       "                     genres belongs_to_collection original_language  \\\n",
       "0   Animation|Comedy|Family  Toy Story Collection                en   \n",
       "1  Adventure|Fantasy|Family                   NaN                en   \n",
       "\n",
       "   budget_musd  revenue_musd  \\\n",
       "0         30.0    373.554033   \n",
       "1         65.0    262.797249   \n",
       "\n",
       "                                production_companies  ... runtime  \\\n",
       "0                            Pixar Animation Studios  ...    81.0   \n",
       "1  TriStar Pictures|Teitler Film|Interscope Commu...  ...   104.0   \n",
       "\n",
       "                                            overview  spoken_languages  \\\n",
       "0  Led by Woody, Andy's toys live happily in his ...           English   \n",
       "1  When siblings Judy and Peter discover an encha...  English|Français   \n",
       "\n",
       "                                         poster_path  \\\n",
       "0  <img src='http://image.tmdb.org/t/p/w185//uXDf...   \n",
       "1  <img src='http://image.tmdb.org/t/p/w185//vgpX...   \n",
       "\n",
       "                                                cast cast_size crew_size  \\\n",
       "0  Tom Hanks|Tim Allen|Don Rickles|Jim Varney|Wal...        13       106   \n",
       "1  Robin Williams|Jonathan Hyde|Kirsten Dunst|Bra...        26        16   \n",
       "\n",
       "        director profit_musd   roi_musd  \n",
       "0  John Lasseter  343.554033  12.451801  \n",
       "1   Joe Johnston  197.797249   4.043035  \n",
       "\n",
       "[2 rows x 24 columns]"
      ]
     },
     "execution_count": 21,
     "metadata": {},
     "output_type": "execute_result"
    }
   ],
   "source": [
    "movies_df.head(2)"
   ]
  },
  {
   "cell_type": "code",
   "execution_count": 22,
   "metadata": {},
   "outputs": [],
   "source": [
    "#movies_df['release_date'] = movies_df['release_date'].astype(object)\n",
    "#movies_df['release_date']\n",
    "#movies_df['release_year_date'] = movies_df['release_date'].apply(lambda x: x.split('-')[0])\n",
    "\n",
    "#pd.to_datetime(movies_df['release_date'], format='%Y-%b-%d')"
   ]
  },
  {
   "cell_type": "code",
   "execution_count": 23,
   "metadata": {},
   "outputs": [],
   "source": [
    "#print(movies_df['genres'].unique())\n",
    "#print(movies_df['cast'].unique())"
   ]
  },
  {
   "cell_type": "code",
   "execution_count": 24,
   "metadata": {},
   "outputs": [
    {
     "data": {
      "text/plain": [
       "998      7.5\n",
       "31       7.4\n",
       "1448     7.3\n",
       "9813     7.2\n",
       "3836     6.9\n",
       "162      6.9\n",
       "1310     6.6\n",
       "19218    6.6\n",
       "15870    6.6\n",
       "1786     6.5\n",
       "Name: vote_average, dtype: float64"
      ]
     },
     "execution_count": 24,
     "metadata": {},
     "output_type": "execute_result"
    }
   ],
   "source": [
    "# Search 1\n",
    "genres_mask = movies_df['genres'].str.contains('Science|Fiction|Action')\n",
    "actors_mask = movies_df['cast'].str.contains('Bruce Willis')\n",
    "movies_df[genres_mask & actors_mask]['vote_average'].sort_values(ascending=False).head(10)\n",
    "#movies_df[genres_mask & actors_mask].nlargest(5, 'vote_average')"
   ]
  },
  {
   "cell_type": "code",
   "execution_count": 25,
   "metadata": {},
   "outputs": [
    {
     "data": {
      "text/plain": [
       "6667    111.0\n",
       "7208    136.0\n",
       "291     154.0\n",
       "Name: runtime, dtype: float64"
      ]
     },
     "execution_count": 25,
     "metadata": {},
     "output_type": "execute_result"
    }
   ],
   "source": [
    "# Search 2\n",
    "director_mask = movies_df['director'] == 'Quentin Tarantino'\n",
    "actors_mask2 = movies_df['cast'].str.contains('Uma|Thurman')\n",
    "#print(actors_mask)\n",
    "movies_df[director_mask & actors_mask2]['runtime'].sort_values().head(10)\n",
    "#movies_df[genres_mask & actors_mask].nlargest(5, 'vote_average')"
   ]
  },
  {
   "cell_type": "code",
   "execution_count": 26,
   "metadata": {},
   "outputs": [],
   "source": [
    "# Search 3\n",
    "movies_df['release_date'] = pd.to_datetime(movies_df['release_date'], format='%Y-%m-%d')"
   ]
  },
  {
   "cell_type": "code",
   "execution_count": 27,
   "metadata": {},
   "outputs": [
    {
     "ename": "ValueError",
     "evalue": "Cannot mask with non-boolean array containing NA / NaN values",
     "output_type": "error",
     "traceback": [
      "\u001b[1;31m---------------------------------------------------------------------------\u001b[0m",
      "\u001b[1;31mValueError\u001b[0m                                Traceback (most recent call last)",
      "\u001b[1;32m<ipython-input-27-6bc0a7ed202b>\u001b[0m in \u001b[0;36m<module>\u001b[1;34m\u001b[0m\n\u001b[0;32m      6\u001b[0m \u001b[1;31m#new_movies_df\u001b[0m\u001b[1;33m\u001b[0m\u001b[1;33m\u001b[0m\u001b[1;33m\u001b[0m\u001b[0m\n\u001b[0;32m      7\u001b[0m \u001b[1;31m#print(actors_mask)\u001b[0m\u001b[1;33m\u001b[0m\u001b[1;33m\u001b[0m\u001b[1;33m\u001b[0m\u001b[0m\n\u001b[1;32m----> 8\u001b[1;33m \u001b[0mnew_movies_df\u001b[0m\u001b[1;33m[\u001b[0m\u001b[0mcompanies_mask\u001b[0m\u001b[1;33m]\u001b[0m\u001b[1;33m[\u001b[0m\u001b[1;34m'revenue_musd'\u001b[0m\u001b[1;33m]\u001b[0m\u001b[1;33m.\u001b[0m\u001b[0msort_values\u001b[0m\u001b[1;33m(\u001b[0m\u001b[0mascending\u001b[0m\u001b[1;33m=\u001b[0m\u001b[1;32mFalse\u001b[0m\u001b[1;33m)\u001b[0m\u001b[1;33m.\u001b[0m\u001b[0mhead\u001b[0m\u001b[1;33m(\u001b[0m\u001b[1;36m10\u001b[0m\u001b[1;33m)\u001b[0m\u001b[1;33m\u001b[0m\u001b[1;33m\u001b[0m\u001b[0m\n\u001b[0m\u001b[0;32m      9\u001b[0m \u001b[1;31m#movies_df[genres_mask & actors_mask].nlargest(5, 'vote_average')\u001b[0m\u001b[1;33m\u001b[0m\u001b[1;33m\u001b[0m\u001b[1;33m\u001b[0m\u001b[0m\n",
      "\u001b[1;32mc:\\users\\lenovo\\anaconda3\\envs\\hcia ai\\lib\\site-packages\\pandas\\core\\frame.py\u001b[0m in \u001b[0;36m__getitem__\u001b[1;34m(self, key)\u001b[0m\n\u001b[0;32m   2788\u001b[0m \u001b[1;33m\u001b[0m\u001b[0m\n\u001b[0;32m   2789\u001b[0m         \u001b[1;31m# Do we have a (boolean) 1d indexer?\u001b[0m\u001b[1;33m\u001b[0m\u001b[1;33m\u001b[0m\u001b[1;33m\u001b[0m\u001b[0m\n\u001b[1;32m-> 2790\u001b[1;33m         \u001b[1;32mif\u001b[0m \u001b[0mcom\u001b[0m\u001b[1;33m.\u001b[0m\u001b[0mis_bool_indexer\u001b[0m\u001b[1;33m(\u001b[0m\u001b[0mkey\u001b[0m\u001b[1;33m)\u001b[0m\u001b[1;33m:\u001b[0m\u001b[1;33m\u001b[0m\u001b[1;33m\u001b[0m\u001b[0m\n\u001b[0m\u001b[0;32m   2791\u001b[0m             \u001b[1;32mreturn\u001b[0m \u001b[0mself\u001b[0m\u001b[1;33m.\u001b[0m\u001b[0m_getitem_bool_array\u001b[0m\u001b[1;33m(\u001b[0m\u001b[0mkey\u001b[0m\u001b[1;33m)\u001b[0m\u001b[1;33m\u001b[0m\u001b[1;33m\u001b[0m\u001b[0m\n\u001b[0;32m   2792\u001b[0m \u001b[1;33m\u001b[0m\u001b[0m\n",
      "\u001b[1;32mc:\\users\\lenovo\\anaconda3\\envs\\hcia ai\\lib\\site-packages\\pandas\\core\\common.py\u001b[0m in \u001b[0;36mis_bool_indexer\u001b[1;34m(key)\u001b[0m\n\u001b[0;32m    134\u001b[0m                 \u001b[0mna_msg\u001b[0m \u001b[1;33m=\u001b[0m \u001b[1;34m\"Cannot mask with non-boolean array containing NA / NaN values\"\u001b[0m\u001b[1;33m\u001b[0m\u001b[1;33m\u001b[0m\u001b[0m\n\u001b[0;32m    135\u001b[0m                 \u001b[1;32mif\u001b[0m \u001b[0misna\u001b[0m\u001b[1;33m(\u001b[0m\u001b[0mkey\u001b[0m\u001b[1;33m)\u001b[0m\u001b[1;33m.\u001b[0m\u001b[0many\u001b[0m\u001b[1;33m(\u001b[0m\u001b[1;33m)\u001b[0m\u001b[1;33m:\u001b[0m\u001b[1;33m\u001b[0m\u001b[1;33m\u001b[0m\u001b[0m\n\u001b[1;32m--> 136\u001b[1;33m                     \u001b[1;32mraise\u001b[0m \u001b[0mValueError\u001b[0m\u001b[1;33m(\u001b[0m\u001b[0mna_msg\u001b[0m\u001b[1;33m)\u001b[0m\u001b[1;33m\u001b[0m\u001b[1;33m\u001b[0m\u001b[0m\n\u001b[0m\u001b[0;32m    137\u001b[0m                 \u001b[1;32mreturn\u001b[0m \u001b[1;32mFalse\u001b[0m\u001b[1;33m\u001b[0m\u001b[1;33m\u001b[0m\u001b[0m\n\u001b[0;32m    138\u001b[0m             \u001b[1;32mreturn\u001b[0m \u001b[1;32mTrue\u001b[0m\u001b[1;33m\u001b[0m\u001b[1;33m\u001b[0m\u001b[0m\n",
      "\u001b[1;31mValueError\u001b[0m: Cannot mask with non-boolean array containing NA / NaN values"
     ]
    }
   ],
   "source": [
    "# Search 3\n",
    "companies_mask = movies_df['production_companies'].str.contains('Pixar Studio')\n",
    "years_mask1 = movies_df['release_date'].dt.year >= 2010\n",
    "years_mask2 = movies_df['release_date'].dt.year <= 2015\n",
    "new_movies_df = movies_df[years_mask1 & years_mask2]\n",
    "#new_movies_df\n",
    "#print(actors_mask)\n",
    "new_movies_df[companies_mask]['revenue_musd'].sort_values(ascending=False).head(10)\n",
    "#movies_df[genres_mask & actors_mask].nlargest(5, 'vote_average')"
   ]
  },
  {
   "cell_type": "code",
   "execution_count": 28,
   "metadata": {},
   "outputs": [
    {
     "data": {
      "text/html": [
       "<div>\n",
       "<style scoped>\n",
       "    .dataframe tbody tr th:only-of-type {\n",
       "        vertical-align: middle;\n",
       "    }\n",
       "\n",
       "    .dataframe tbody tr th {\n",
       "        vertical-align: top;\n",
       "    }\n",
       "\n",
       "    .dataframe thead th {\n",
       "        text-align: right;\n",
       "    }\n",
       "</style>\n",
       "<table border=\"1\" class=\"dataframe\">\n",
       "  <thead>\n",
       "    <tr style=\"text-align: right;\">\n",
       "      <th></th>\n",
       "      <th>id</th>\n",
       "      <th>title</th>\n",
       "      <th>tagline</th>\n",
       "      <th>release_date</th>\n",
       "      <th>genres</th>\n",
       "      <th>belongs_to_collection</th>\n",
       "      <th>original_language</th>\n",
       "      <th>budget_musd</th>\n",
       "      <th>revenue_musd</th>\n",
       "      <th>production_companies</th>\n",
       "      <th>...</th>\n",
       "      <th>runtime</th>\n",
       "      <th>overview</th>\n",
       "      <th>spoken_languages</th>\n",
       "      <th>poster_path</th>\n",
       "      <th>cast</th>\n",
       "      <th>cast_size</th>\n",
       "      <th>crew_size</th>\n",
       "      <th>director</th>\n",
       "      <th>profit_musd</th>\n",
       "      <th>roi_musd</th>\n",
       "    </tr>\n",
       "  </thead>\n",
       "  <tbody>\n",
       "    <tr>\n",
       "      <th>549</th>\n",
       "      <td>319</td>\n",
       "      <td>True Romance</td>\n",
       "      <td>Stealing, Cheating, Killing. Who said romance ...</td>\n",
       "      <td>1993-09-09</td>\n",
       "      <td>Action|Thriller|Crime|Romance</td>\n",
       "      <td>NaN</td>\n",
       "      <td>en</td>\n",
       "      <td>12.5</td>\n",
       "      <td>12.281551</td>\n",
       "      <td>Davis-Films|August Entertainment|Warner Bros.|...</td>\n",
       "      <td>...</td>\n",
       "      <td>120.0</td>\n",
       "      <td>Clarence marries hooker Alabama, steals cocain...</td>\n",
       "      <td>English|Italiano</td>\n",
       "      <td>&lt;img src='http://image.tmdb.org/t/p/w185//AqlP...</td>\n",
       "      <td>Christian Slater|Patricia Arquette|Michael Rap...</td>\n",
       "      <td>40</td>\n",
       "      <td>39</td>\n",
       "      <td>Tony Scott</td>\n",
       "      <td>-0.218449</td>\n",
       "      <td>0.982524</td>\n",
       "    </tr>\n",
       "    <tr>\n",
       "      <th>664</th>\n",
       "      <td>27768</td>\n",
       "      <td>Some Folks Call It a Sling Blade</td>\n",
       "      <td>NaN</td>\n",
       "      <td>1994-03-26</td>\n",
       "      <td>Drama|Thriller</td>\n",
       "      <td>NaN</td>\n",
       "      <td>en</td>\n",
       "      <td>NaN</td>\n",
       "      <td>NaN</td>\n",
       "      <td>NaN</td>\n",
       "      <td>...</td>\n",
       "      <td>25.0</td>\n",
       "      <td>25 years after committing a double murder, Kar...</td>\n",
       "      <td>NaN</td>\n",
       "      <td>&lt;img src='http://image.tmdb.org/t/p/w185//xUeg...</td>\n",
       "      <td>Billy Bob Thornton|Molly Ringwald|J.T. Walsh</td>\n",
       "      <td>3</td>\n",
       "      <td>2</td>\n",
       "      <td>George Hickenlooper</td>\n",
       "      <td>NaN</td>\n",
       "      <td>NaN</td>\n",
       "    </tr>\n",
       "    <tr>\n",
       "      <th>912</th>\n",
       "      <td>1712</td>\n",
       "      <td>Giant</td>\n",
       "      <td>The legendary epic that's as big as Texas.</td>\n",
       "      <td>1956-10-10</td>\n",
       "      <td>Action|Drama|Western</td>\n",
       "      <td>NaN</td>\n",
       "      <td>en</td>\n",
       "      <td>5.4</td>\n",
       "      <td>35.000000</td>\n",
       "      <td>Warner Bros.</td>\n",
       "      <td>...</td>\n",
       "      <td>201.0</td>\n",
       "      <td>Sprawling epic covering the life of a Texas ca...</td>\n",
       "      <td>English|Español</td>\n",
       "      <td>&lt;img src='http://image.tmdb.org/t/p/w185//vlwq...</td>\n",
       "      <td>Elizabeth Taylor|Rock Hudson|James Dean|Carrol...</td>\n",
       "      <td>31</td>\n",
       "      <td>14</td>\n",
       "      <td>George Stevens</td>\n",
       "      <td>29.600000</td>\n",
       "      <td>6.481481</td>\n",
       "    </tr>\n",
       "    <tr>\n",
       "      <th>998</th>\n",
       "      <td>562</td>\n",
       "      <td>Die Hard</td>\n",
       "      <td>40 Stories. Twelve Terrorists. One Cop.</td>\n",
       "      <td>1988-07-15</td>\n",
       "      <td>Action|Thriller</td>\n",
       "      <td>Die Hard Collection</td>\n",
       "      <td>en</td>\n",
       "      <td>28.0</td>\n",
       "      <td>140.767956</td>\n",
       "      <td>Twentieth Century Fox Film Corporation|Gordon ...</td>\n",
       "      <td>...</td>\n",
       "      <td>131.0</td>\n",
       "      <td>NYPD cop, John McClane's plan to reconcile wit...</td>\n",
       "      <td>English|Deutsch|Italiano</td>\n",
       "      <td>&lt;img src='http://image.tmdb.org/t/p/w185//aJCp...</td>\n",
       "      <td>Bruce Willis|Alan Rickman|Alexander Godunov|Bo...</td>\n",
       "      <td>47</td>\n",
       "      <td>75</td>\n",
       "      <td>John McTiernan</td>\n",
       "      <td>112.767956</td>\n",
       "      <td>5.027427</td>\n",
       "    </tr>\n",
       "    <tr>\n",
       "      <th>1048</th>\n",
       "      <td>792</td>\n",
       "      <td>Platoon</td>\n",
       "      <td>The first casualty of war is innocence.</td>\n",
       "      <td>1986-12-18</td>\n",
       "      <td>Drama|War|Action</td>\n",
       "      <td>NaN</td>\n",
       "      <td>en</td>\n",
       "      <td>6.0</td>\n",
       "      <td>138.530565</td>\n",
       "      <td>Orion Pictures|Hemdale Film Corporation</td>\n",
       "      <td>...</td>\n",
       "      <td>120.0</td>\n",
       "      <td>As a young and naive recruit in Vietnam, Chris...</td>\n",
       "      <td>English|Tiếng Việt</td>\n",
       "      <td>&lt;img src='http://image.tmdb.org/t/p/w185//8hDl...</td>\n",
       "      <td>Tom Berenger|Charlie Sheen|Willem Dafoe|Forest...</td>\n",
       "      <td>31</td>\n",
       "      <td>34</td>\n",
       "      <td>Oliver Stone</td>\n",
       "      <td>132.530565</td>\n",
       "      <td>23.088427</td>\n",
       "    </tr>\n",
       "  </tbody>\n",
       "</table>\n",
       "<p>5 rows × 24 columns</p>\n",
       "</div>"
      ],
      "text/plain": [
       "         id                             title  \\\n",
       "549     319                      True Romance   \n",
       "664   27768  Some Folks Call It a Sling Blade   \n",
       "912    1712                             Giant   \n",
       "998     562                          Die Hard   \n",
       "1048    792                           Platoon   \n",
       "\n",
       "                                                tagline release_date  \\\n",
       "549   Stealing, Cheating, Killing. Who said romance ...   1993-09-09   \n",
       "664                                                 NaN   1994-03-26   \n",
       "912          The legendary epic that's as big as Texas.   1956-10-10   \n",
       "998             40 Stories. Twelve Terrorists. One Cop.   1988-07-15   \n",
       "1048            The first casualty of war is innocence.   1986-12-18   \n",
       "\n",
       "                             genres belongs_to_collection original_language  \\\n",
       "549   Action|Thriller|Crime|Romance                   NaN                en   \n",
       "664                  Drama|Thriller                   NaN                en   \n",
       "912            Action|Drama|Western                   NaN                en   \n",
       "998                 Action|Thriller   Die Hard Collection                en   \n",
       "1048               Drama|War|Action                   NaN                en   \n",
       "\n",
       "      budget_musd  revenue_musd  \\\n",
       "549          12.5     12.281551   \n",
       "664           NaN           NaN   \n",
       "912           5.4     35.000000   \n",
       "998          28.0    140.767956   \n",
       "1048          6.0    138.530565   \n",
       "\n",
       "                                   production_companies  ... runtime  \\\n",
       "549   Davis-Films|August Entertainment|Warner Bros.|...  ...   120.0   \n",
       "664                                                 NaN  ...    25.0   \n",
       "912                                        Warner Bros.  ...   201.0   \n",
       "998   Twentieth Century Fox Film Corporation|Gordon ...  ...   131.0   \n",
       "1048            Orion Pictures|Hemdale Film Corporation  ...   120.0   \n",
       "\n",
       "                                               overview  \\\n",
       "549   Clarence marries hooker Alabama, steals cocain...   \n",
       "664   25 years after committing a double murder, Kar...   \n",
       "912   Sprawling epic covering the life of a Texas ca...   \n",
       "998   NYPD cop, John McClane's plan to reconcile wit...   \n",
       "1048  As a young and naive recruit in Vietnam, Chris...   \n",
       "\n",
       "              spoken_languages  \\\n",
       "549           English|Italiano   \n",
       "664                        NaN   \n",
       "912            English|Español   \n",
       "998   English|Deutsch|Italiano   \n",
       "1048        English|Tiếng Việt   \n",
       "\n",
       "                                            poster_path  \\\n",
       "549   <img src='http://image.tmdb.org/t/p/w185//AqlP...   \n",
       "664   <img src='http://image.tmdb.org/t/p/w185//xUeg...   \n",
       "912   <img src='http://image.tmdb.org/t/p/w185//vlwq...   \n",
       "998   <img src='http://image.tmdb.org/t/p/w185//aJCp...   \n",
       "1048  <img src='http://image.tmdb.org/t/p/w185//8hDl...   \n",
       "\n",
       "                                                   cast cast_size crew_size  \\\n",
       "549   Christian Slater|Patricia Arquette|Michael Rap...        40        39   \n",
       "664        Billy Bob Thornton|Molly Ringwald|J.T. Walsh         3         2   \n",
       "912   Elizabeth Taylor|Rock Hudson|James Dean|Carrol...        31        14   \n",
       "998   Bruce Willis|Alan Rickman|Alexander Godunov|Bo...        47        75   \n",
       "1048  Tom Berenger|Charlie Sheen|Willem Dafoe|Forest...        31        34   \n",
       "\n",
       "                 director profit_musd   roi_musd  \n",
       "549            Tony Scott   -0.218449   0.982524  \n",
       "664   George Hickenlooper         NaN        NaN  \n",
       "912        George Stevens   29.600000   6.481481  \n",
       "998        John McTiernan  112.767956   5.027427  \n",
       "1048         Oliver Stone  132.530565  23.088427  \n",
       "\n",
       "[5 rows x 24 columns]"
      ]
     },
     "execution_count": 28,
     "metadata": {},
     "output_type": "execute_result"
    }
   ],
   "source": [
    "# Search 4\n",
    "genres_mask2 = movies_df['genres'].str.contains('Action|Thriller')\n",
    "language_mask = movies_df['original_language'] == 'en'\n",
    "rating_mask = movies_df['vote_average'] == 7.5\n",
    "movies_df[genres_mask2 & language_mask & rating_mask].head()"
   ]
  },
  {
   "cell_type": "markdown",
   "metadata": {},
   "source": [
    "## Are Franchises more successful?"
   ]
  },
  {
   "cell_type": "markdown",
   "metadata": {},
   "source": [
    "4. __Analyze__ the Dataset and __find out whether Franchises (Movies that belong to a collection) are more successful than stand-alone movies__ in terms of:"
   ]
  },
  {
   "cell_type": "markdown",
   "metadata": {},
   "source": [
    "- mean revenue\n",
    "- median Return on Investment\n",
    "- mean budget raised\n",
    "- mean popularity\n",
    "- mean rating"
   ]
  },
  {
   "cell_type": "markdown",
   "metadata": {},
   "source": [
    "hint: use groupby()"
   ]
  },
  {
   "cell_type": "markdown",
   "metadata": {},
   "source": [
    "__Franchise vs. Stand-alone: Average Revenue__"
   ]
  },
  {
   "cell_type": "code",
   "execution_count": 29,
   "metadata": {},
   "outputs": [
    {
     "data": {
      "text/plain": [
       "belongs_to_collection\n",
       "... Has Fallen Collection               183.390043\n",
       "00 Schneider Filmreihe                         NaN\n",
       "08/15 Collection                               NaN\n",
       "100 Girls Collection                           NaN\n",
       "101 Dalmatians (Animated) Collection    215.880014\n",
       "                                           ...    \n",
       "Сказки Чуковского                              NaN\n",
       "Чебурашка и крокодил Гена                      NaN\n",
       "Что Творят мужчины! (Коллекция)                NaN\n",
       "男はつらいよ シリーズ                                    NaN\n",
       "식객 시리즈                                         NaN\n",
       "Name: revenue_musd, Length: 1691, dtype: float64"
      ]
     },
     "execution_count": 29,
     "metadata": {},
     "output_type": "execute_result"
    }
   ],
   "source": [
    "movies_df.groupby('belongs_to_collection')['revenue_musd'].mean()"
   ]
  },
  {
   "cell_type": "markdown",
   "metadata": {},
   "source": [
    "__Franchise vs. Stand-alone: Return on Investment / Profitability (median)__"
   ]
  },
  {
   "cell_type": "code",
   "execution_count": 30,
   "metadata": {},
   "outputs": [
    {
     "data": {
      "text/plain": [
       "belongs_to_collection\n",
       "... Has Fallen Collection                2.864804\n",
       "00 Schneider Filmreihe                        NaN\n",
       "08/15 Collection                              NaN\n",
       "100 Girls Collection                          NaN\n",
       "101 Dalmatians (Animated) Collection    53.970004\n",
       "                                          ...    \n",
       "Сказки Чуковского                             NaN\n",
       "Чебурашка и крокодил Гена                     NaN\n",
       "Что Творят мужчины! (Коллекция)               NaN\n",
       "男はつらいよ シリーズ                                   NaN\n",
       "식객 시리즈                                        NaN\n",
       "Name: roi_musd, Length: 1691, dtype: float64"
      ]
     },
     "execution_count": 30,
     "metadata": {},
     "output_type": "execute_result"
    }
   ],
   "source": [
    "movies_df.groupby('belongs_to_collection')['roi_musd'].median()"
   ]
  },
  {
   "cell_type": "markdown",
   "metadata": {},
   "source": [
    "__Franchise vs. Stand-alone: Average Budget__"
   ]
  },
  {
   "cell_type": "code",
   "execution_count": 31,
   "metadata": {},
   "outputs": [
    {
     "data": {
      "text/plain": [
       "belongs_to_collection\n",
       "... Has Fallen Collection               65.0\n",
       "00 Schneider Filmreihe                   NaN\n",
       "08/15 Collection                         NaN\n",
       "100 Girls Collection                     NaN\n",
       "101 Dalmatians (Animated) Collection     4.0\n",
       "                                        ... \n",
       "Сказки Чуковского                        NaN\n",
       "Чебурашка и крокодил Гена                NaN\n",
       "Что Творят мужчины! (Коллекция)          2.0\n",
       "男はつらいよ シリーズ                              NaN\n",
       "식객 시리즈                                   NaN\n",
       "Name: budget_musd, Length: 1691, dtype: float64"
      ]
     },
     "execution_count": 31,
     "metadata": {},
     "output_type": "execute_result"
    }
   ],
   "source": [
    "movies_df.groupby('belongs_to_collection')['budget_musd'].mean()"
   ]
  },
  {
   "cell_type": "markdown",
   "metadata": {},
   "source": [
    "__Franchise vs. Stand-alone: Average Popularity__"
   ]
  },
  {
   "cell_type": "code",
   "execution_count": 32,
   "metadata": {},
   "outputs": [
    {
     "data": {
      "text/plain": [
       "belongs_to_collection\n",
       "... Has Fallen Collection               13.008090\n",
       "00 Schneider Filmreihe                   1.931299\n",
       "08/15 Collection                         0.628127\n",
       "100 Girls Collection                     3.078652\n",
       "101 Dalmatians (Animated) Collection    13.063212\n",
       "                                          ...    \n",
       "Сказки Чуковского                        0.731334\n",
       "Чебурашка и крокодил Гена                0.881504\n",
       "Что Творят мужчины! (Коллекция)          1.299605\n",
       "男はつらいよ シリーズ                              0.038901\n",
       "식객 시리즈                                   0.157245\n",
       "Name: popularity, Length: 1691, dtype: float64"
      ]
     },
     "execution_count": 32,
     "metadata": {},
     "output_type": "execute_result"
    }
   ],
   "source": [
    "movies_df.groupby('belongs_to_collection')['popularity'].mean()"
   ]
  },
  {
   "cell_type": "markdown",
   "metadata": {},
   "source": [
    "__Franchise vs. Stand-alone: Average Rating__"
   ]
  },
  {
   "cell_type": "code",
   "execution_count": 33,
   "metadata": {},
   "outputs": [
    {
     "data": {
      "text/plain": [
       "belongs_to_collection\n",
       "... Has Fallen Collection               6.00\n",
       "00 Schneider Filmreihe                  6.50\n",
       "08/15 Collection                        5.90\n",
       "100 Girls Collection                    5.15\n",
       "101 Dalmatians (Animated) Collection    6.25\n",
       "                                        ... \n",
       "Сказки Чуковского                       3.00\n",
       "Чебурашка и крокодил Гена               6.70\n",
       "Что Творят мужчины! (Коллекция)         3.15\n",
       "男はつらいよ シリーズ                             7.00\n",
       "식객 시리즈                                  4.95\n",
       "Name: vote_average, Length: 1691, dtype: float64"
      ]
     },
     "execution_count": 33,
     "metadata": {},
     "output_type": "execute_result"
    }
   ],
   "source": [
    "movies_df.groupby('belongs_to_collection')['vote_average'].mean()"
   ]
  },
  {
   "cell_type": "markdown",
   "metadata": {},
   "source": [
    "## Most Successful Franchises"
   ]
  },
  {
   "cell_type": "markdown",
   "metadata": {},
   "source": [
    "5. __Find__ the __most successful Franchises__ in terms of"
   ]
  },
  {
   "cell_type": "markdown",
   "metadata": {},
   "source": [
    "- __total number of movies__\n",
    "- __total & mean budget__\n",
    "- __total & mean revenue__\n",
    "- __mean rating__"
   ]
  },
  {
   "cell_type": "code",
   "execution_count": 34,
   "metadata": {},
   "outputs": [],
   "source": [
    "import numpy as np"
   ]
  },
  {
   "cell_type": "code",
   "execution_count": 35,
   "metadata": {},
   "outputs": [
    {
     "data": {
      "text/plain": [
       "The Bowery Boys                       29\n",
       "Totò Collection                       27\n",
       "James Bond Collection                 26\n",
       "Zatôichi: The Blind Swordsman         26\n",
       "The Carry On Collection               25\n",
       "                                      ..\n",
       "No Good Middle-Aged Yakuza Trilogy     1\n",
       "Sami Swoi Collection                   1\n",
       "Gone in 60 Seconds Trilogy             1\n",
       "Welcome Collection                     1\n",
       "White Collar Hooligan Collection       1\n",
       "Name: belongs_to_collection, Length: 1691, dtype: int64"
      ]
     },
     "execution_count": 35,
     "metadata": {},
     "output_type": "execute_result"
    }
   ],
   "source": [
    "movies_df['belongs_to_collection'].value_counts()"
   ]
  },
  {
   "cell_type": "code",
   "execution_count": 36,
   "metadata": {},
   "outputs": [
    {
     "data": {
      "text/html": [
       "<div>\n",
       "<style scoped>\n",
       "    .dataframe tbody tr th:only-of-type {\n",
       "        vertical-align: middle;\n",
       "    }\n",
       "\n",
       "    .dataframe tbody tr th {\n",
       "        vertical-align: top;\n",
       "    }\n",
       "\n",
       "    .dataframe thead th {\n",
       "        text-align: right;\n",
       "    }\n",
       "</style>\n",
       "<table border=\"1\" class=\"dataframe\">\n",
       "  <thead>\n",
       "    <tr style=\"text-align: right;\">\n",
       "      <th></th>\n",
       "      <th>sum</th>\n",
       "      <th>mean</th>\n",
       "    </tr>\n",
       "    <tr>\n",
       "      <th>belongs_to_collection</th>\n",
       "      <th></th>\n",
       "      <th></th>\n",
       "    </tr>\n",
       "  </thead>\n",
       "  <tbody>\n",
       "    <tr>\n",
       "      <th>... Has Fallen Collection</th>\n",
       "      <td>130.0</td>\n",
       "      <td>65.0</td>\n",
       "    </tr>\n",
       "    <tr>\n",
       "      <th>00 Schneider Filmreihe</th>\n",
       "      <td>0.0</td>\n",
       "      <td>NaN</td>\n",
       "    </tr>\n",
       "    <tr>\n",
       "      <th>08/15 Collection</th>\n",
       "      <td>0.0</td>\n",
       "      <td>NaN</td>\n",
       "    </tr>\n",
       "    <tr>\n",
       "      <th>100 Girls Collection</th>\n",
       "      <td>0.0</td>\n",
       "      <td>NaN</td>\n",
       "    </tr>\n",
       "    <tr>\n",
       "      <th>101 Dalmatians (Animated) Collection</th>\n",
       "      <td>4.0</td>\n",
       "      <td>4.0</td>\n",
       "    </tr>\n",
       "    <tr>\n",
       "      <th>...</th>\n",
       "      <td>...</td>\n",
       "      <td>...</td>\n",
       "    </tr>\n",
       "    <tr>\n",
       "      <th>Сказки Чуковского</th>\n",
       "      <td>0.0</td>\n",
       "      <td>NaN</td>\n",
       "    </tr>\n",
       "    <tr>\n",
       "      <th>Чебурашка и крокодил Гена</th>\n",
       "      <td>0.0</td>\n",
       "      <td>NaN</td>\n",
       "    </tr>\n",
       "    <tr>\n",
       "      <th>Что Творят мужчины! (Коллекция)</th>\n",
       "      <td>2.0</td>\n",
       "      <td>2.0</td>\n",
       "    </tr>\n",
       "    <tr>\n",
       "      <th>男はつらいよ シリーズ</th>\n",
       "      <td>0.0</td>\n",
       "      <td>NaN</td>\n",
       "    </tr>\n",
       "    <tr>\n",
       "      <th>식객 시리즈</th>\n",
       "      <td>0.0</td>\n",
       "      <td>NaN</td>\n",
       "    </tr>\n",
       "  </tbody>\n",
       "</table>\n",
       "<p>1691 rows × 2 columns</p>\n",
       "</div>"
      ],
      "text/plain": [
       "                                        sum  mean\n",
       "belongs_to_collection                            \n",
       "... Has Fallen Collection             130.0  65.0\n",
       "00 Schneider Filmreihe                  0.0   NaN\n",
       "08/15 Collection                        0.0   NaN\n",
       "100 Girls Collection                    0.0   NaN\n",
       "101 Dalmatians (Animated) Collection    4.0   4.0\n",
       "...                                     ...   ...\n",
       "Сказки Чуковского                       0.0   NaN\n",
       "Чебурашка и крокодил Гена               0.0   NaN\n",
       "Что Творят мужчины! (Коллекция)         2.0   2.0\n",
       "男はつらいよ シリーズ                             0.0   NaN\n",
       "식객 시리즈                                  0.0   NaN\n",
       "\n",
       "[1691 rows x 2 columns]"
      ]
     },
     "execution_count": 36,
     "metadata": {},
     "output_type": "execute_result"
    }
   ],
   "source": [
    "movies_df.groupby('belongs_to_collection')['budget_musd'].agg([np.sum, np.mean])"
   ]
  },
  {
   "cell_type": "code",
   "execution_count": 37,
   "metadata": {},
   "outputs": [
    {
     "data": {
      "text/html": [
       "<div>\n",
       "<style scoped>\n",
       "    .dataframe tbody tr th:only-of-type {\n",
       "        vertical-align: middle;\n",
       "    }\n",
       "\n",
       "    .dataframe tbody tr th {\n",
       "        vertical-align: top;\n",
       "    }\n",
       "\n",
       "    .dataframe thead th {\n",
       "        text-align: right;\n",
       "    }\n",
       "</style>\n",
       "<table border=\"1\" class=\"dataframe\">\n",
       "  <thead>\n",
       "    <tr style=\"text-align: right;\">\n",
       "      <th></th>\n",
       "      <th>sum</th>\n",
       "      <th>mean</th>\n",
       "    </tr>\n",
       "    <tr>\n",
       "      <th>belongs_to_collection</th>\n",
       "      <th></th>\n",
       "      <th></th>\n",
       "    </tr>\n",
       "  </thead>\n",
       "  <tbody>\n",
       "    <tr>\n",
       "      <th>... Has Fallen Collection</th>\n",
       "      <td>366.780087</td>\n",
       "      <td>183.390043</td>\n",
       "    </tr>\n",
       "    <tr>\n",
       "      <th>00 Schneider Filmreihe</th>\n",
       "      <td>0.000000</td>\n",
       "      <td>NaN</td>\n",
       "    </tr>\n",
       "    <tr>\n",
       "      <th>08/15 Collection</th>\n",
       "      <td>0.000000</td>\n",
       "      <td>NaN</td>\n",
       "    </tr>\n",
       "    <tr>\n",
       "      <th>100 Girls Collection</th>\n",
       "      <td>0.000000</td>\n",
       "      <td>NaN</td>\n",
       "    </tr>\n",
       "    <tr>\n",
       "      <th>101 Dalmatians (Animated) Collection</th>\n",
       "      <td>215.880014</td>\n",
       "      <td>215.880014</td>\n",
       "    </tr>\n",
       "    <tr>\n",
       "      <th>...</th>\n",
       "      <td>...</td>\n",
       "      <td>...</td>\n",
       "    </tr>\n",
       "    <tr>\n",
       "      <th>Сказки Чуковского</th>\n",
       "      <td>0.000000</td>\n",
       "      <td>NaN</td>\n",
       "    </tr>\n",
       "    <tr>\n",
       "      <th>Чебурашка и крокодил Гена</th>\n",
       "      <td>0.000000</td>\n",
       "      <td>NaN</td>\n",
       "    </tr>\n",
       "    <tr>\n",
       "      <th>Что Творят мужчины! (Коллекция)</th>\n",
       "      <td>0.000000</td>\n",
       "      <td>NaN</td>\n",
       "    </tr>\n",
       "    <tr>\n",
       "      <th>男はつらいよ シリーズ</th>\n",
       "      <td>0.000000</td>\n",
       "      <td>NaN</td>\n",
       "    </tr>\n",
       "    <tr>\n",
       "      <th>식객 시리즈</th>\n",
       "      <td>0.000000</td>\n",
       "      <td>NaN</td>\n",
       "    </tr>\n",
       "  </tbody>\n",
       "</table>\n",
       "<p>1691 rows × 2 columns</p>\n",
       "</div>"
      ],
      "text/plain": [
       "                                             sum        mean\n",
       "belongs_to_collection                                       \n",
       "... Has Fallen Collection             366.780087  183.390043\n",
       "00 Schneider Filmreihe                  0.000000         NaN\n",
       "08/15 Collection                        0.000000         NaN\n",
       "100 Girls Collection                    0.000000         NaN\n",
       "101 Dalmatians (Animated) Collection  215.880014  215.880014\n",
       "...                                          ...         ...\n",
       "Сказки Чуковского                       0.000000         NaN\n",
       "Чебурашка и крокодил Гена               0.000000         NaN\n",
       "Что Творят мужчины! (Коллекция)         0.000000         NaN\n",
       "男はつらいよ シリーズ                             0.000000         NaN\n",
       "식객 시리즈                                  0.000000         NaN\n",
       "\n",
       "[1691 rows x 2 columns]"
      ]
     },
     "execution_count": 37,
     "metadata": {},
     "output_type": "execute_result"
    }
   ],
   "source": [
    "movies_df.groupby('belongs_to_collection')['revenue_musd'].agg([np.sum, np.mean])"
   ]
  },
  {
   "cell_type": "code",
   "execution_count": 38,
   "metadata": {},
   "outputs": [
    {
     "data": {
      "text/plain": [
       "belongs_to_collection\n",
       "... Has Fallen Collection               12.0\n",
       "00 Schneider Filmreihe                   6.5\n",
       "08/15 Collection                         5.9\n",
       "100 Girls Collection                    10.3\n",
       "101 Dalmatians (Animated) Collection    12.5\n",
       "                                        ... \n",
       "Сказки Чуковского                        3.0\n",
       "Чебурашка и крокодил Гена                6.7\n",
       "Что Творят мужчины! (Коллекция)          6.3\n",
       "男はつらいよ シリーズ                              7.0\n",
       "식객 시리즈                                   9.9\n",
       "Name: vote_average, Length: 1691, dtype: float64"
      ]
     },
     "execution_count": 38,
     "metadata": {},
     "output_type": "execute_result"
    }
   ],
   "source": [
    "movies_df.groupby('belongs_to_collection')['vote_average'].agg(np.sum)"
   ]
  },
  {
   "cell_type": "markdown",
   "metadata": {},
   "source": [
    "## Most Successful Directors"
   ]
  },
  {
   "cell_type": "markdown",
   "metadata": {},
   "source": [
    "6. __Find__ the __most successful Directors__ in terms of"
   ]
  },
  {
   "cell_type": "markdown",
   "metadata": {},
   "source": [
    "- __total number of movies__\n",
    "- __total revenue__\n",
    "- __mean rating__"
   ]
  },
  {
   "cell_type": "code",
   "execution_count": 42,
   "metadata": {
    "scrolled": true
   },
   "outputs": [
    {
     "data": {
      "text/plain": [
       "director\n",
       " Dale Trevillion\\t      137373\n",
       " Davide Manuli          124091\n",
       " E.W. Swackhamer         45377\n",
       " Vitaliy Vorobyov       231510\n",
       " Yeon Sang-Ho          1088738\n",
       "                        ...   \n",
       "Ярополк Лапшин          376188\n",
       "پیمان معادی             228407\n",
       "塩谷 直義                   296917\n",
       "杰森·莫玛                   268060\n",
       "진모영                     306598\n",
       "Name: id, Length: 17349, dtype: int64"
      ]
     },
     "execution_count": 42,
     "metadata": {},
     "output_type": "execute_result"
    }
   ],
   "source": [
    "movies_df.groupby('director')['id'].sum()"
   ]
  },
  {
   "cell_type": "code",
   "execution_count": 43,
   "metadata": {},
   "outputs": [
    {
     "data": {
      "text/plain": [
       "director\n",
       " Dale Trevillion\\t     0.000000\n",
       " Davide Manuli         0.000000\n",
       " E.W. Swackhamer       0.000000\n",
       " Vitaliy Vorobyov      0.000000\n",
       " Yeon Sang-Ho          2.129768\n",
       "                         ...   \n",
       "Ярополк Лапшин         0.000000\n",
       "پیمان معادی            0.000000\n",
       "塩谷 直義                  0.000000\n",
       "杰森·莫玛                  0.000000\n",
       "진모영                    0.000000\n",
       "Name: revenue_musd, Length: 17349, dtype: float64"
      ]
     },
     "execution_count": 43,
     "metadata": {},
     "output_type": "execute_result"
    }
   ],
   "source": [
    "movies_df.groupby('director')['revenue_musd'].sum()"
   ]
  },
  {
   "cell_type": "code",
   "execution_count": 41,
   "metadata": {},
   "outputs": [
    {
     "data": {
      "text/plain": [
       "director\n",
       " Dale Trevillion\\t      4.0\n",
       " Davide Manuli          6.9\n",
       " E.W. Swackhamer        5.9\n",
       " Vitaliy Vorobyov       5.5\n",
       " Yeon Sang-Ho           6.6\n",
       "                       ... \n",
       "Ярополк Лапшин         10.0\n",
       "پیمان معادی             6.0\n",
       "塩谷 直義                   7.2\n",
       "杰森·莫玛                   5.8\n",
       "진모영                     6.0\n",
       "Name: vote_average, Length: 17349, dtype: float64"
      ]
     },
     "execution_count": 41,
     "metadata": {},
     "output_type": "execute_result"
    }
   ],
   "source": [
    "movies_df.groupby('director')['vote_average'].mean()"
   ]
  }
 ],
 "metadata": {
  "kernelspec": {
   "display_name": "Python 3",
   "language": "python",
   "name": "python3"
  },
  "language_info": {
   "codemirror_mode": {
    "name": "ipython",
    "version": 3
   },
   "file_extension": ".py",
   "mimetype": "text/x-python",
   "name": "python",
   "nbconvert_exporter": "python",
   "pygments_lexer": "ipython3",
   "version": "3.7.9"
  }
 },
 "nbformat": 4,
 "nbformat_minor": 2
}
